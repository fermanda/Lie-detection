{
 "cells": [
  {
   "cell_type": "markdown",
   "metadata": {},
   "source": [
    "# Data processing\n",
    "In the following code, the data will be read."
   ]
  },
  {
   "cell_type": "code",
   "execution_count": 1,
   "metadata": {},
   "outputs": [
    {
     "data": {
      "text/plain": [
       "(14209, 4)"
      ]
     },
     "execution_count": 1,
     "metadata": {},
     "output_type": "execute_result"
    }
   ],
   "source": [
    "import pandas as pd\n",
    "import matplotlib.pyplot as plt\n",
    "\n",
    "#Reading the data\n",
    "df = pd.read_csv('dataset/politifact.csv')\n",
    "\n",
    "#Checking the data size\n",
    "df.shape"
   ]
  },
  {
   "cell_type": "code",
   "execution_count": 2,
   "metadata": {},
   "outputs": [
    {
     "data": {
      "text/html": [
       "<div>\n",
       "<style scoped>\n",
       "    .dataframe tbody tr th:only-of-type {\n",
       "        vertical-align: middle;\n",
       "    }\n",
       "\n",
       "    .dataframe tbody tr th {\n",
       "        vertical-align: top;\n",
       "    }\n",
       "\n",
       "    .dataframe thead th {\n",
       "        text-align: right;\n",
       "    }\n",
       "</style>\n",
       "<table border=\"1\" class=\"dataframe\">\n",
       "  <thead>\n",
       "    <tr style=\"text-align: right;\">\n",
       "      <th></th>\n",
       "      <th>statement</th>\n",
       "      <th>source</th>\n",
       "      <th>link</th>\n",
       "      <th>veracity</th>\n",
       "    </tr>\n",
       "  </thead>\n",
       "  <tbody>\n",
       "    <tr>\n",
       "      <th>0</th>\n",
       "      <td>Sen. Kamala Harris is \"supporting the animals ...</td>\n",
       "      <td>Donald Trump</td>\n",
       "      <td>/web/20180705082623/https://www.politifact.com...</td>\n",
       "      <td>Pants on Fire!</td>\n",
       "    </tr>\n",
       "    <tr>\n",
       "      <th>1</th>\n",
       "      <td>Says Ronald Reagan said immigrants \"brought wi...</td>\n",
       "      <td>Becoming American Initiative</td>\n",
       "      <td>/web/20180705082623/https://www.politifact.com...</td>\n",
       "      <td>Mostly True</td>\n",
       "    </tr>\n",
       "    <tr>\n",
       "      <th>2</th>\n",
       "      <td>Says Democratic Senators \"demand Supreme Court...</td>\n",
       "      <td>Viral image</td>\n",
       "      <td>/web/20180705082623/https://www.politifact.com...</td>\n",
       "      <td>Pants on Fire!</td>\n",
       "    </tr>\n",
       "    <tr>\n",
       "      <th>3</th>\n",
       "      <td>\"Tim Kaine doesn’t want a border at all. He wa...</td>\n",
       "      <td>Corey  Stewart</td>\n",
       "      <td>/web/20180705082623/https://www.politifact.com...</td>\n",
       "      <td>Pants on Fire!</td>\n",
       "    </tr>\n",
       "    <tr>\n",
       "      <th>4</th>\n",
       "      <td>\"There are a lot of private charters. And in f...</td>\n",
       "      <td>Kelda Helen Roys</td>\n",
       "      <td>/web/20180705082623/https://www.politifact.com...</td>\n",
       "      <td>Half-True</td>\n",
       "    </tr>\n",
       "  </tbody>\n",
       "</table>\n",
       "</div>"
      ],
      "text/plain": [
       "                                           statement  \\\n",
       "0  Sen. Kamala Harris is \"supporting the animals ...   \n",
       "1  Says Ronald Reagan said immigrants \"brought wi...   \n",
       "2  Says Democratic Senators \"demand Supreme Court...   \n",
       "3  \"Tim Kaine doesn’t want a border at all. He wa...   \n",
       "4  \"There are a lot of private charters. And in f...   \n",
       "\n",
       "                         source  \\\n",
       "0                  Donald Trump   \n",
       "1  Becoming American Initiative   \n",
       "2                   Viral image   \n",
       "3                Corey  Stewart   \n",
       "4              Kelda Helen Roys   \n",
       "\n",
       "                                                link        veracity  \n",
       "0  /web/20180705082623/https://www.politifact.com...  Pants on Fire!  \n",
       "1  /web/20180705082623/https://www.politifact.com...     Mostly True  \n",
       "2  /web/20180705082623/https://www.politifact.com...  Pants on Fire!  \n",
       "3  /web/20180705082623/https://www.politifact.com...  Pants on Fire!  \n",
       "4  /web/20180705082623/https://www.politifact.com...       Half-True  "
      ]
     },
     "execution_count": 2,
     "metadata": {},
     "output_type": "execute_result"
    }
   ],
   "source": [
    "#Get the first 5 dsata\n",
    "df.head(5)"
   ]
  },
  {
   "cell_type": "code",
   "execution_count": 3,
   "metadata": {},
   "outputs": [
    {
     "data": {
      "text/plain": [
       "array(['Pants on Fire!', 'Mostly True', 'Half-True', 'False', 'True',\n",
       "       'Mostly False', 'Full Flop', 'Half Flip', 'No Flip'], dtype=object)"
      ]
     },
     "execution_count": 3,
     "metadata": {},
     "output_type": "execute_result"
    }
   ],
   "source": [
    "#Find the unique value in column.\n",
    "df.veracity.unique()"
   ]
  },
  {
   "cell_type": "code",
   "execution_count": 4,
   "metadata": {},
   "outputs": [
    {
     "data": {
      "text/html": [
       "<div>\n",
       "<style scoped>\n",
       "    .dataframe tbody tr th:only-of-type {\n",
       "        vertical-align: middle;\n",
       "    }\n",
       "\n",
       "    .dataframe tbody tr th {\n",
       "        vertical-align: top;\n",
       "    }\n",
       "\n",
       "    .dataframe thead th {\n",
       "        text-align: right;\n",
       "    }\n",
       "</style>\n",
       "<table border=\"1\" class=\"dataframe\">\n",
       "  <thead>\n",
       "    <tr style=\"text-align: right;\">\n",
       "      <th></th>\n",
       "      <th>statement</th>\n",
       "      <th>source</th>\n",
       "      <th>link</th>\n",
       "      <th>veracity</th>\n",
       "    </tr>\n",
       "  </thead>\n",
       "  <tbody>\n",
       "    <tr>\n",
       "      <th>7</th>\n",
       "      <td>\"Watch those GDP numbers. We started off at a ...</td>\n",
       "      <td>Donald Trump</td>\n",
       "      <td>/web/20180705082623/https://www.politifact.com...</td>\n",
       "      <td>False</td>\n",
       "    </tr>\n",
       "    <tr>\n",
       "      <th>8</th>\n",
       "      <td>\"The European Union … they send us Mercedes, t...</td>\n",
       "      <td>Donald Trump</td>\n",
       "      <td>/web/20180705082623/https://www.politifact.com...</td>\n",
       "      <td>False</td>\n",
       "    </tr>\n",
       "    <tr>\n",
       "      <th>9</th>\n",
       "      <td>\"Clinton campaign official arrested by FBI on ...</td>\n",
       "      <td>Bloggers</td>\n",
       "      <td>/web/20180705082623/https://www.politifact.com...</td>\n",
       "      <td>False</td>\n",
       "    </tr>\n",
       "    <tr>\n",
       "      <th>10</th>\n",
       "      <td>\"Our courts find that 80 percent of those who ...</td>\n",
       "      <td>Jeff Sessions</td>\n",
       "      <td>/web/20180705082623/https://www.politifact.com...</td>\n",
       "      <td>False</td>\n",
       "    </tr>\n",
       "    <tr>\n",
       "      <th>11</th>\n",
       "      <td>Says a progressive income tax proposal from De...</td>\n",
       "      <td>Evelyn Sanguinetti</td>\n",
       "      <td>/web/20180705082623/https://www.politifact.com...</td>\n",
       "      <td>False</td>\n",
       "    </tr>\n",
       "  </tbody>\n",
       "</table>\n",
       "</div>"
      ],
      "text/plain": [
       "                                            statement              source  \\\n",
       "7   \"Watch those GDP numbers. We started off at a ...        Donald Trump   \n",
       "8   \"The European Union … they send us Mercedes, t...        Donald Trump   \n",
       "9   \"Clinton campaign official arrested by FBI on ...            Bloggers   \n",
       "10  \"Our courts find that 80 percent of those who ...       Jeff Sessions   \n",
       "11  Says a progressive income tax proposal from De...  Evelyn Sanguinetti   \n",
       "\n",
       "                                                 link veracity  \n",
       "7   /web/20180705082623/https://www.politifact.com...    False  \n",
       "8   /web/20180705082623/https://www.politifact.com...    False  \n",
       "9   /web/20180705082623/https://www.politifact.com...    False  \n",
       "10  /web/20180705082623/https://www.politifact.com...    False  \n",
       "11  /web/20180705082623/https://www.politifact.com...    False  "
      ]
     },
     "execution_count": 4,
     "metadata": {},
     "output_type": "execute_result"
    }
   ],
   "source": [
    "# Removing non-sense data\n",
    "# \"Pants on Fire\", \"Full Flop\", \"Half Flip\", \"No Flip\" because it is nonsense category\n",
    "# \"Mostly True\", \"Half-true\", \"Mostly False\" because it is not concrete\n",
    "\n",
    "df_clean = df[~df['veracity'].isin([\"Pants on Fire!\", \"Full Flop\",\"Half Flip\", \"No Flip\", \"Mostly True\", \"Half-True\", \"Mostly False\"])]\n",
    "df_clean.head(5)"
   ]
  },
  {
   "cell_type": "code",
   "execution_count": 5,
   "metadata": {},
   "outputs": [
    {
     "data": {
      "text/html": [
       "<div>\n",
       "<style scoped>\n",
       "    .dataframe tbody tr th:only-of-type {\n",
       "        vertical-align: middle;\n",
       "    }\n",
       "\n",
       "    .dataframe tbody tr th {\n",
       "        vertical-align: top;\n",
       "    }\n",
       "\n",
       "    .dataframe thead th {\n",
       "        text-align: right;\n",
       "    }\n",
       "</style>\n",
       "<table border=\"1\" class=\"dataframe\">\n",
       "  <thead>\n",
       "    <tr style=\"text-align: right;\">\n",
       "      <th></th>\n",
       "      <th>statement</th>\n",
       "      <th>source</th>\n",
       "      <th>link</th>\n",
       "      <th>veracity</th>\n",
       "    </tr>\n",
       "  </thead>\n",
       "  <tbody>\n",
       "    <tr>\n",
       "      <th>14200</th>\n",
       "      <td>\"I'm for a three-state political solution in I...</td>\n",
       "      <td>Sam Brownback</td>\n",
       "      <td>/web/20180119180622/http://www.politifact.com/...</td>\n",
       "      <td>1</td>\n",
       "    </tr>\n",
       "    <tr>\n",
       "      <th>14204</th>\n",
       "      <td>\"For every single scientist that tells you (gl...</td>\n",
       "      <td>Tom Tancredo</td>\n",
       "      <td>/web/20180119180622/http://www.politifact.com/...</td>\n",
       "      <td>0</td>\n",
       "    </tr>\n",
       "    <tr>\n",
       "      <th>14206</th>\n",
       "      <td>\"We now have the greatest income inequality si...</td>\n",
       "      <td>John Edwards</td>\n",
       "      <td>/web/20180119180622/http://www.politifact.com/...</td>\n",
       "      <td>1</td>\n",
       "    </tr>\n",
       "    <tr>\n",
       "      <th>14207</th>\n",
       "      <td>\"Tommy Thompson is the father of welfare refor...</td>\n",
       "      <td>Tommy Thompson</td>\n",
       "      <td>/web/20180119180622/http://www.politifact.com/...</td>\n",
       "      <td>1</td>\n",
       "    </tr>\n",
       "    <tr>\n",
       "      <th>14208</th>\n",
       "      <td>\"Tommy Thompson created the first school choic...</td>\n",
       "      <td>Tommy Thompson</td>\n",
       "      <td>/web/20180119180622/http://www.politifact.com/...</td>\n",
       "      <td>1</td>\n",
       "    </tr>\n",
       "  </tbody>\n",
       "</table>\n",
       "</div>"
      ],
      "text/plain": [
       "                                               statement          source  \\\n",
       "14200  \"I'm for a three-state political solution in I...   Sam Brownback   \n",
       "14204  \"For every single scientist that tells you (gl...    Tom Tancredo   \n",
       "14206  \"We now have the greatest income inequality si...    John Edwards   \n",
       "14207  \"Tommy Thompson is the father of welfare refor...  Tommy Thompson   \n",
       "14208  \"Tommy Thompson created the first school choic...  Tommy Thompson   \n",
       "\n",
       "                                                    link  veracity  \n",
       "14200  /web/20180119180622/http://www.politifact.com/...         1  \n",
       "14204  /web/20180119180622/http://www.politifact.com/...         0  \n",
       "14206  /web/20180119180622/http://www.politifact.com/...         1  \n",
       "14207  /web/20180119180622/http://www.politifact.com/...         1  \n",
       "14208  /web/20180119180622/http://www.politifact.com/...         1  "
      ]
     },
     "execution_count": 5,
     "metadata": {},
     "output_type": "execute_result"
    }
   ],
   "source": [
    "#Binarizing clean dataset\n",
    "df_bin = df_clean.replace({\n",
    "    \"False\" : 0,\n",
    "    \"True\" : 1\n",
    "})\n",
    "\n",
    "df_bin.tail(5)"
   ]
  },
  {
   "cell_type": "code",
   "execution_count": 6,
   "metadata": {},
   "outputs": [
    {
     "data": {
      "image/png": "[encoded data removed]",
      "text/plain": [
       "<Figure size 432x288 with 1 Axes>"
      ]
     },
     "metadata": {},
     "output_type": "display_data"
    }
   ],
   "source": [
    "# Draw the pie chart\n",
    "plt.pie([df_bin.veracity.value_counts()[0], df_bin.veracity.value_counts()[1]], labels=df_clean.veracity.unique().tolist(), autopct='%1.1f%%')\n",
    "plt.show()"
   ]
  },
  {
   "cell_type": "code",
   "execution_count": 7,
   "metadata": {},
   "outputs": [],
   "source": [
    "# Save the cleaned data\n",
    "df_bin.to_csv(\"dataset/politifact_clean_binarized.csv\", index=False)"
   ]
  },
  {
   "cell_type": "code",
   "execution_count": 10,
   "metadata": {},
   "outputs": [
    {
     "data": {
      "text/html": [
       "<div>\n",
       "<style scoped>\n",
       "    .dataframe tbody tr th:only-of-type {\n",
       "        vertical-align: middle;\n",
       "    }\n",
       "\n",
       "    .dataframe tbody tr th {\n",
       "        vertical-align: top;\n",
       "    }\n",
       "\n",
       "    .dataframe thead th {\n",
       "        text-align: right;\n",
       "    }\n",
       "</style>\n",
       "<table border=\"1\" class=\"dataframe\">\n",
       "  <thead>\n",
       "    <tr style=\"text-align: right;\">\n",
       "      <th></th>\n",
       "      <th>statement</th>\n",
       "      <th>source</th>\n",
       "      <th>link</th>\n",
       "      <th>veracity</th>\n",
       "      <th>tokens</th>\n",
       "    </tr>\n",
       "  </thead>\n",
       "  <tbody>\n",
       "    <tr>\n",
       "      <th>7</th>\n",
       "      <td>\"Watch those GDP numbers. We started off at a ...</td>\n",
       "      <td>Donald Trump</td>\n",
       "      <td>/web/20180705082623/https://www.politifact.com...</td>\n",
       "      <td>0</td>\n",
       "      <td>[Watch, those, GDP, numbers, We, started, off,...</td>\n",
       "    </tr>\n",
       "    <tr>\n",
       "      <th>8</th>\n",
       "      <td>\"The European Union … they send us Mercedes, t...</td>\n",
       "      <td>Donald Trump</td>\n",
       "      <td>/web/20180705082623/https://www.politifact.com...</td>\n",
       "      <td>0</td>\n",
       "      <td>[The, European, Union, they, send, us, Mercede...</td>\n",
       "    </tr>\n",
       "    <tr>\n",
       "      <th>9</th>\n",
       "      <td>\"Clinton campaign official arrested by FBI on ...</td>\n",
       "      <td>Bloggers</td>\n",
       "      <td>/web/20180705082623/https://www.politifact.com...</td>\n",
       "      <td>0</td>\n",
       "      <td>[Clinton, campaign, official, arrested, by, FB...</td>\n",
       "    </tr>\n",
       "    <tr>\n",
       "      <th>10</th>\n",
       "      <td>\"Our courts find that 80 percent of those who ...</td>\n",
       "      <td>Jeff Sessions</td>\n",
       "      <td>/web/20180705082623/https://www.politifact.com...</td>\n",
       "      <td>0</td>\n",
       "      <td>[Our, courts, find, that, 80, percent, of, tho...</td>\n",
       "    </tr>\n",
       "    <tr>\n",
       "      <th>11</th>\n",
       "      <td>Says a progressive income tax proposal from De...</td>\n",
       "      <td>Evelyn Sanguinetti</td>\n",
       "      <td>/web/20180705082623/https://www.politifact.com...</td>\n",
       "      <td>0</td>\n",
       "      <td>[Says, a, progressive, income, tax, proposal, ...</td>\n",
       "    </tr>\n",
       "  </tbody>\n",
       "</table>\n",
       "</div>"
      ],
      "text/plain": [
       "                                            statement              source  \\\n",
       "7   \"Watch those GDP numbers. We started off at a ...        Donald Trump   \n",
       "8   \"The European Union … they send us Mercedes, t...        Donald Trump   \n",
       "9   \"Clinton campaign official arrested by FBI on ...            Bloggers   \n",
       "10  \"Our courts find that 80 percent of those who ...       Jeff Sessions   \n",
       "11  Says a progressive income tax proposal from De...  Evelyn Sanguinetti   \n",
       "\n",
       "                                                 link  veracity  \\\n",
       "7   /web/20180705082623/https://www.politifact.com...         0   \n",
       "8   /web/20180705082623/https://www.politifact.com...         0   \n",
       "9   /web/20180705082623/https://www.politifact.com...         0   \n",
       "10  /web/20180705082623/https://www.politifact.com...         0   \n",
       "11  /web/20180705082623/https://www.politifact.com...         0   \n",
       "\n",
       "                                               tokens  \n",
       "7   [Watch, those, GDP, numbers, We, started, off,...  \n",
       "8   [The, European, Union, they, send, us, Mercede...  \n",
       "9   [Clinton, campaign, official, arrested, by, FB...  \n",
       "10  [Our, courts, find, that, 80, percent, of, tho...  \n",
       "11  [Says, a, progressive, income, tax, proposal, ...  "
      ]
     },
     "execution_count": 10,
     "metadata": {},
     "output_type": "execute_result"
    }
   ],
   "source": [
    "from nltk.tokenize import RegexpTokenizer\n",
    "\n",
    "tokenizer = RegexpTokenizer(r'\\w+')\n",
    "\n",
    "df_bin[\"tokens\"] = df_bin[\"statement\"].apply(tokenizer.tokenize)\n",
    "df_bin.head()"
   ]
  },
  {
   "cell_type": "code",
   "execution_count": 11,
   "metadata": {},
   "outputs": [],
   "source": [
    "df_bin.to_csv(\"dataset/politifact_clean_binarized_tokenized.csv\", index=False)"
   ]
  }
 ],
 "metadata": {
  "interpreter": {
   "hash": "df341e439d8898b36818e2aebb29991679c31a6ec0c23a831dfaae5b4660e627"
  },
  "kernelspec": {
   "display_name": "Python 3.9.12 ('pytorch')",
   "language": "python",
   "name": "python3"
  },
  "language_info": {
   "codemirror_mode": {
    "name": "ipython",
    "version": 3
   },
   "file_extension": ".py",
   "mimetype": "text/x-python",
   "name": "python",
   "nbconvert_exporter": "python",
   "pygments_lexer": "ipython3",
   "version": "3.9.12"
  },
  "orig_nbformat": 4
 },
 "nbformat": 4,
 "nbformat_minor": 2
}
